{
 "cells": [
  {
   "cell_type": "code",
   "execution_count": 3,
   "id": "e5c4fbdf-20da-4ddd-b3fa-7e0db37de18b",
   "metadata": {},
   "outputs": [
    {
     "data": {
      "text/plain": [
       "<function destroyAllWindows>"
      ]
     },
     "execution_count": 3,
     "metadata": {},
     "output_type": "execute_result"
    }
   ],
   "source": [
    "import cv2 as cv\n",
    "\n",
    "\n",
    "img = cv.imread(\"lake.jpg\")\n",
    "img2 = cv.imread(\"taj.jpg\")\n",
    "\n",
    "\n",
    "\n",
    "cv.namedWindow(\"Act-lake\", cv.WINDOW_NORMAL)\n",
    "cv.imshow(\"Act-lake\", img)\n",
    "\n",
    "blur = cv.bilateralFilter(img,9,75,75)\n",
    "\n",
    "cv.namedWindow(\"Blur-lake\", cv.WINDOW_NORMAL)\n",
    "cv.imshow(\"Blur-lake\", blur)\n",
    "\n",
    "\n",
    "\n",
    "cv.waitKey(0)\n",
    "cv.destroyAllWindows"
   ]
  }
 ],
 "metadata": {
  "kernelspec": {
   "display_name": "Python 3 (ipykernel)",
   "language": "python",
   "name": "python3"
  },
  "language_info": {
   "codemirror_mode": {
    "name": "ipython",
    "version": 3
   },
   "file_extension": ".py",
   "mimetype": "text/x-python",
   "name": "python",
   "nbconvert_exporter": "python",
   "pygments_lexer": "ipython3",
   "version": "3.13.5"
  }
 },
 "nbformat": 4,
 "nbformat_minor": 5
}
