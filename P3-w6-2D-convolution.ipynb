{
 "cells": [
  {
   "cell_type": "code",
   "execution_count": 2,
   "id": "93b99390-8173-4b63-86c7-5dd0efe7de6e",
   "metadata": {},
   "outputs": [
    {
     "name": "stdin",
     "output_type": "stream",
     "text": [
      "HoWhat much that you want me to remove? (positive integer only) 50\n"
     ]
    },
    {
     "name": "stdout",
     "output_type": "stream",
     "text": [
      "----------------------------------------------------------------------------------------------------\n"
     ]
    },
    {
     "data": {
      "text/plain": [
       "<function destroyAllWindows>"
      ]
     },
     "execution_count": 2,
     "metadata": {},
     "output_type": "execute_result"
    }
   ],
   "source": [
    "import cv2 as cv\n",
    "import numpy as np\n",
    "\n",
    "kernel = np.ones((3,3), np.float32)/ (3*3)\n",
    "img =cv.imread(\"pimple2.jpg\")\n",
    "\n",
    "\n",
    "img2= cv.filter2D(img, -1,kernel)\n",
    "r = cv.selectROI(\"Select the noise\",img2)\n",
    "cropped_image = img[int(r[1]):int(r[1]+r[3]), int(r[0]):int(r[0]+r[2])] \n",
    "\n",
    "\n",
    "cv.namedWindow(\"The noise\", cv.WINDOW_NORMAL)\n",
    "cv.imshow(\"The noise\", cropped_image)\n",
    "\n",
    "\n",
    "\n",
    "num = int(input(\"HoWhat much that you want me to remove? (positive integer only)\"))\n",
    "for i in range(num):\n",
    "    cropped_image = cv.filter2D(cropped_image, -1,kernel)\n",
    "\n",
    "\n",
    "\n",
    "cv.namedWindow(\"Cleanned\", cv.WINDOW_NORMAL)\n",
    "cv.imshow(\"Cleanned\", cropped_image)\n",
    "\n",
    "# Paste back the image\n",
    "img2[int(r[1]):int(r[1]+r[3]), int(r[0]):int(r[0]+r[2])] = cropped_image\n",
    "\n",
    "\n",
    "cv.namedWindow(\"Ori\", cv.WINDOW_NORMAL)\n",
    "cv.imshow(\"Ori\", img)\n",
    "\n",
    "print(\"--\"*50)\n",
    "\n",
    "\n",
    "cv.namedWindow(\"After\", cv.WINDOW_NORMAL)\n",
    "cv.imshow(\"After\", img2)\n",
    "\n",
    "cv.waitKey(0)\n",
    "cv.destroyAllWindows"
   ]
  },
  {
   "cell_type": "code",
   "execution_count": null,
   "id": "4c1a0838-a98c-4f94-84d9-4108cea3b97a",
   "metadata": {},
   "outputs": [],
   "source": []
  }
 ],
 "metadata": {
  "kernelspec": {
   "display_name": "Python 3 (ipykernel)",
   "language": "python",
   "name": "python3"
  },
  "language_info": {
   "codemirror_mode": {
    "name": "ipython",
    "version": 3
   },
   "file_extension": ".py",
   "mimetype": "text/x-python",
   "name": "python",
   "nbconvert_exporter": "python",
   "pygments_lexer": "ipython3",
   "version": "3.13.5"
  }
 },
 "nbformat": 4,
 "nbformat_minor": 5
}
