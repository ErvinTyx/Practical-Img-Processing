{
 "cells": [
  {
   "cell_type": "code",
   "execution_count": null,
   "id": "d986b5f6-7eea-411c-8de1-a8b741680303",
   "metadata": {},
   "outputs": [],
   "source": [
    "import cv2 as cv\n",
    "face_cascade = cv.CascadeClassifier(cv.data.haarcascades +'haarcascade_frontalface_default.xml')\n",
    "font = cv.FONT_HERSHEY_SIMPLEX \n",
    "cap = cv.VideoCapture(0)\n",
    "\n",
    "while True:\n",
    "    ret, frame = cap.read()\n",
    "    gray = cv.cvtColor(frame, cv.COLOR_BGR2GRAY)\n",
    "\n",
    "    faces = face_cascade.detectMultiScale(gray,scaleFactor=1.1, minNeighbors=5, minSize=(30, 30))\n",
    "\n",
    "    for (x,y,w,h) in faces:\n",
    "        face_roi = frame[y:y+h, x:x+w]\n",
    "        blurred_face = cv.GaussianBlur(face_roi,(99,99),30)\n",
    "        cv.putText(frame,'Comrades',(x-50, y), font, 1,(0,0,255),2,cv.LINE_AA)\n",
    "        frame[y:y+h,x:x+w] = blurred_face\n",
    "    cv.imshow('Video', frame)\n",
    "\n",
    "    if cv.waitKey(1) & 0xFF == ord('q'):\n",
    "\n",
    "        break\n",
    "\n",
    "cap.release()\n",
    "cv.destroyAllWindows()"
   ]
  }
 ],
 "metadata": {
  "kernelspec": {
   "display_name": "Python 3 (ipykernel)",
   "language": "python",
   "name": "python3"
  },
  "language_info": {
   "codemirror_mode": {
    "name": "ipython",
    "version": 3
   },
   "file_extension": ".py",
   "mimetype": "text/x-python",
   "name": "python",
   "nbconvert_exporter": "python",
   "pygments_lexer": "ipython3",
   "version": "3.13.5"
  }
 },
 "nbformat": 4,
 "nbformat_minor": 5
}
