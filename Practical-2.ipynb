{
 "cells": [
  {
   "cell_type": "code",
   "execution_count": 2,
   "id": "d986b5f6-7eea-411c-8de1-a8b741680303",
   "metadata": {},
   "outputs": [],
   "source": [
    "import cv2 as cv\n",
    "\n",
    "face_cascade = cv.CascadeClassifier(cv.data.haarcascades + 'haarcascade_frontalface_default.xml')\n",
    "font = cv.FONT_HERSHEY_SIMPLEX\n",
    "cap = cv.VideoCapture(0)\n",
    "\n",
    "while True:\n",
    "    ret, frame = cap.read()\n",
    "    if not ret:\n",
    "        break\n",
    "\n",
    "    gray = cv.cvtColor(frame, cv.COLOR_BGR2GRAY)\n",
    "    faces = face_cascade.detectMultiScale(gray, scaleFactor=1.1, minNeighbors=5, minSize=(30, 30))\n",
    "\n",
    "    # Blur the entire frame\n",
    "    blurred_frame = cv.GaussianBlur(frame, (99, 99), 30)\n",
    "\n",
    "    # For each face, replace the blurred region with the original face region\n",
    "    for (x, y, w, h) in faces:\n",
    "        # Copy original face region to blurred frame\n",
    "        blurred_frame[y:y+h, x:x+w] = frame[y:y+h, x:x+w]\n",
    "        cv.putText(blurred_frame, 'Comrades', (x-50, y), font, 1, (0, 0, 255), 2, cv.LINE_AA)\n",
    "\n",
    "    cv.imshow('Video', blurred_frame)\n",
    "\n",
    "    if cv.waitKey(1) & 0xFF == ord('q'):\n",
    "        break\n",
    "\n",
    "cap.release()\n",
    "cv.destroyAllWindows()\n"
   ]
  }
 ],
 "metadata": {
  "kernelspec": {
   "display_name": "Python 3 (ipykernel)",
   "language": "python",
   "name": "python3"
  },
  "language_info": {
   "codemirror_mode": {
    "name": "ipython",
    "version": 3
   },
   "file_extension": ".py",
   "mimetype": "text/x-python",
   "name": "python",
   "nbconvert_exporter": "python",
   "pygments_lexer": "ipython3",
   "version": "3.13.5"
  }
 },
 "nbformat": 4,
 "nbformat_minor": 5
}
