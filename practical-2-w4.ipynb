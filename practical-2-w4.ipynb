{
 "cells": [
  {
   "cell_type": "code",
   "execution_count": 20,
   "id": "dc66e742-5089-4050-88bc-caeb3f448d0f",
   "metadata": {},
   "outputs": [
    {
     "name": "stdout",
     "output_type": "stream",
     "text": [
      "168 300 3\n",
      "225 225 3\n",
      "168 300 3\n"
     ]
    },
    {
     "ename": "KeyboardInterrupt",
     "evalue": "",
     "output_type": "error",
     "traceback": [
      "\u001b[31m---------------------------------------------------------------------------\u001b[39m",
      "\u001b[31mKeyboardInterrupt\u001b[39m                         Traceback (most recent call last)",
      "\u001b[36mCell\u001b[39m\u001b[36m \u001b[39m\u001b[32mIn[20]\u001b[39m\u001b[32m, line 29\u001b[39m\n\u001b[32m     25\u001b[39m cv.imshow(\u001b[33m\"\u001b[39m\u001b[33mImage 1 \u001b[39m\u001b[33m\"\u001b[39m, image1)\n\u001b[32m     26\u001b[39m cv.imshow(\u001b[33m\"\u001b[39m\u001b[33mImage 2\u001b[39m\u001b[33m\"\u001b[39m, image2)\n\u001b[32m---> \u001b[39m\u001b[32m29\u001b[39m \u001b[43mcv\u001b[49m\u001b[43m.\u001b[49m\u001b[43mwaitKey\u001b[49m\u001b[43m(\u001b[49m\u001b[32;43m0\u001b[39;49m\u001b[43m)\u001b[49m\n",
      "\u001b[31mKeyboardInterrupt\u001b[39m: "
     ]
    }
   ],
   "source": [
    "import cv2 as cv\n",
    "import numpy as np\n",
    "\n",
    "image1 = cv.imread(\"desert.jfif\")\n",
    "image2 = cv.imread(\"ice.jfif\")\n",
    "\n",
    "height1, weight1, channel1 = image1.shape\n",
    "height2, weight2, channel2 = image2.shape\n",
    "\n",
    "print(height1, weight1, channel1)\n",
    "print(height2, weight2, channel2)\n",
    "\n",
    "\n",
    "\n",
    "image2_resized = cv.resize(image2,(weight1,height1),interpolation = cv.INTER_AREA)\n",
    "\n",
    "height3, weight3, channel3= image2_resized.shape\n",
    "print(height3, weight3, channel3)\n",
    "\n",
    "\n",
    "#image blending\n",
    "result = cv.addWeighted(image1,0.5, image2_resized, 0.9,0)\n",
    "cv.namedWindow(\"The Result\", cv.WINDOW_NORMAL)\n",
    "cv.imshow(\"The Result\", result)\n",
    "cv.imshow(\"Image 1 \", image1)\n",
    "cv.imshow(\"Image 2\", image2)\n",
    "\n",
    "\n",
    "cv.waitKey(0)"
   ]
  },
  {
   "cell_type": "markdown",
   "id": "abb59daf-9842-4d70-ac4d-9ad7225e5238",
   "metadata": {},
   "source": [
    "# Color detection\n"
   ]
  },
  {
   "cell_type": "code",
   "execution_count": 1,
   "id": "dff41d0d-a921-44c0-8867-3a8aa09d4fa7",
   "metadata": {},
   "outputs": [
    {
     "ename": "AttributeError",
     "evalue": "module 'cv2' has no attribute 'destoryAllWindows'",
     "output_type": "error",
     "traceback": [
      "\u001b[31m---------------------------------------------------------------------------\u001b[39m",
      "\u001b[31mAttributeError\u001b[39m                            Traceback (most recent call last)",
      "\u001b[36mCell\u001b[39m\u001b[36m \u001b[39m\u001b[32mIn[1]\u001b[39m\u001b[32m, line 34\u001b[39m\n\u001b[32m     31\u001b[39m         \u001b[38;5;28;01mbreak\u001b[39;00m\n\u001b[32m     33\u001b[39m video.release()\n\u001b[32m---> \u001b[39m\u001b[32m34\u001b[39m \u001b[43mcv\u001b[49m\u001b[43m.\u001b[49m\u001b[43mdestoryAllWindows\u001b[49m()\n",
      "\u001b[31mAttributeError\u001b[39m: module 'cv2' has no attribute 'destoryAllWindows'"
     ]
    }
   ],
   "source": [
    "import cv2 as cv\n",
    "import numpy as np\n",
    "\n",
    "video = cv.VideoCapture(0)\n",
    "font = cv.FONT_HERSHEY_SIMPLEX\n",
    "\n",
    "while True:\n",
    "    ret, frame = video.read()\n",
    "    if not ret:\n",
    "        break\n",
    "\n",
    "    hsv = cv.cvtColor(frame, cv.COLOR_BGR2HSV)\n",
    "    lower = np.array([0, 50, 50])\n",
    "    upper = np.array([20, 255, 255])\n",
    "\n",
    "    mask = cv.inRange(hsv, lower, upper)\n",
    "    result = cv.bitwise_and(frame, frame, mask=mask)\n",
    "    contours, _ = cv.findContours(mask, cv.RETR_TREE, cv.CHAIN_APPROX_SIMPLE)\n",
    "\n",
    "    count = 0\n",
    "    for contour in contours:\n",
    "        if cv.contourArea(contour) > 500:\n",
    "            count += 1\n",
    "            (x, y), radius = cv.minEnclosingCircle(contour)\n",
    "            center = (int(x), int(y))\n",
    "            radius = int(radius)\n",
    "            cv.circle(frame, center, radius, (0, 255, 0), 2)\n",
    "\n",
    "    # Display the count outside the contour loop\n",
    "    cv.putText(frame, \"No of objects detected: \"+ count, (50, 50), font, 1, (255, 255, 255), 2, cv.LINE_AA)\n",
    "\n",
    "    cv.imshow(\"Original\", frame)\n",
    "    cv.imshow(\"Mask\", mask)\n",
    "    cv.imshow(\"Result\", result)\n",
    "\n",
    "    if cv.waitKey(1) & 0xFF == ord('q'):\n",
    "        break\n",
    "\n",
    "video.release()\n",
    "cv.destroyAllWindows()"
   ]
  }
 ],
 "metadata": {
  "kernelspec": {
   "display_name": "Python 3 (ipykernel)",
   "language": "python",
   "name": "python3"
  },
  "language_info": {
   "codemirror_mode": {
    "name": "ipython",
    "version": 3
   },
   "file_extension": ".py",
   "mimetype": "text/x-python",
   "name": "python",
   "nbconvert_exporter": "python",
   "pygments_lexer": "ipython3",
   "version": "3.13.5"
  }
 },
 "nbformat": 4,
 "nbformat_minor": 5
}
